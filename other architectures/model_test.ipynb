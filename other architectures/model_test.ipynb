{
 "cells": [
  {
   "cell_type": "code",
   "execution_count": 66,
   "metadata": {},
   "outputs": [],
   "source": [
    "import torch\n",
    "import torch.nn as nn\n",
    "import torch.optim as optim\n",
    "from dataloader import get_dataloaders, MAX_SEQ_LENGTH, vocab_size\n",
    "from torch.autograd import Variable\n",
    "import time\n",
    "# device = torch.device(\"cuda\" if torch.cuda.is_available() else \"cpu\")\n",
    "device = 'cpu'\n",
    "\n",
    "class RNAPairLSTM(nn.Module):\n",
    "    def __init__(self, input_dim, hidden_dim, output_dim, num_layers=1):\n",
    "        super(RNAPairLSTM, self).__init__()\n",
    "\n",
    "        self.input_dim = input_dim\n",
    "        self.hidden_dim = hidden_dim\n",
    "        self.output_dim = output_dim\n",
    "        self.num_layers = num_layers\n",
    "\n",
    "        self.lstm = nn.LSTM(input_dim, hidden_dim, num_layers, batch_first=True, bidirectional=True)\n",
    "        self.fc = nn.Linear(2*hidden_dim, output_dim)\n",
    "\n",
    "    def forward(self, input): \n",
    "        h_0 = Variable(torch.zeros(2*self.num_layers, input.size(0), self.hidden_dim, requires_grad=False).to(device))\n",
    "        c_0 = Variable(torch.zeros(2*self.num_layers, input.size(0), self.hidden_dim).to(device))\n",
    "\n",
    "        output, (h_out, _) = self.lstm(input, (h_0, c_0))\n",
    "        output = self.fc(output)\n",
    "        \n",
    "        return output"
   ]
  },
  {
   "cell_type": "code",
   "execution_count": 67,
   "metadata": {},
   "outputs": [
    {
     "data": {
      "text/plain": [
       "RNAPairLSTM(\n",
       "  (lstm): LSTM(7, 128, num_layers=2, batch_first=True, bidirectional=True)\n",
       "  (fc): Linear(in_features=256, out_features=7, bias=True)\n",
       ")"
      ]
     },
     "execution_count": 67,
     "metadata": {},
     "output_type": "execute_result"
    }
   ],
   "source": [
    "import torch\n",
    "import numpy as np\n",
    "import random\n",
    "import os\n",
    "from dataloader import get_dataloaders, MAX_SEQ_LENGTH, vocabulary, vocab_size\n",
    "# from lstm import RNAPairLSTM\n",
    "\n",
    "model_file = \"./model2.pth\"\n",
    "input_dim = vocab_size  # One-hot encoded input size\n",
    "hidden_dim = 128\n",
    "output_dim = vocab_size  # One-hot encoded output size\n",
    "num_layers = 2\n",
    "num_epochs = 100\n",
    "model = RNAPairLSTM(input_dim, hidden_dim, output_dim, num_layers).to(device)\n",
    "# model.load_state_dict(torch.load(model_file, map_location=torch.device('cpu')))\n",
    "model.load_state_dict(torch.load(model_file))\n",
    "model.eval()"
   ]
  },
  {
   "cell_type": "code",
   "execution_count": 68,
   "metadata": {},
   "outputs": [],
   "source": [
    "vocab = list(vocabulary.keys())\n",
    "def outputs_to_seq(outputs):\n",
    "    idx = outputs.argmax(dim=-1)\n",
    "    # 取vocab中的token\n",
    "\n",
    "    rna = [vocab[int(i)] for i in idx.squeeze()]\n",
    "    # 去掉padding\n",
    "    rna = rna[:rna.index('P')]\n",
    "    return rna\n"
   ]
  },
  {
   "cell_type": "code",
   "execution_count": 72,
   "metadata": {},
   "outputs": [
    {
     "name": "stdout",
     "output_type": "stream",
     "text": [
      "train loss:  0.029913874343037605\n",
      "seq1:  ['G', 'G', 'G', 'A', 'E']\n",
      "seq2:  ['T', 'C', 'T', 'C', 'E']\n",
      "predict seq2:  ['T', 'C', 'C', 'C', 'E']\n",
      "\n",
      "train loss:  0.07538177818059921\n",
      "seq1:  ['G', 'G', 'G', 'G', 'A', 'E']\n",
      "seq2:  ['T', 'C', 'C', 'C', 'C', 'E']\n",
      "predict seq2:  ['T', 'C', 'C', 'C', 'C', 'E', 'E', 'E']\n",
      "\n",
      "train loss:  0.06187400221824646\n",
      "seq1:  ['C', 'T', 'C', 'G', 'G', 'T', 'C', 'E']\n",
      "seq2:  ['G', 'A', 'C', 'C', 'G', 'G', 'G', 'E']\n",
      "predict seq2:  ['G', 'A', 'C', 'G', 'G', 'G', 'G', 'E', 'E']\n",
      "\n",
      "train loss:  0.8472760915756226\n",
      "seq1:  ['G', 'A', 'C', 'A', 'G', 'A', 'G', 'T', 'G', 'A', 'G', 'G', 'C', 'T', 'C', 'C', 'A', 'T', 'C', 'T', 'T', 'G', 'G', 'A', 'A', 'A', 'A', 'A', 'A', 'A', 'A', 'A', 'T', 'E']\n",
      "seq2:  ['G', 'T', 'T', 'T', 'T', 'T', 'A', 'A', 'A', 'A', 'A', 'A', 'C', 'A', 'G', 'C', 'G', 'A', 'C', 'A', 'G', 'G', 'G', 'T', 'C', 'T', 'C', 'T', 'C', 'T', 'C', 'T', 'G', 'T', 'C', 'E']\n",
      "predict seq2:  ['G', 'T', 'T', 'T', 'T', 'T', 'T', 'T', 'T', 'T', 'T', 'T', 'T', 'T', 'T', 'T', 'T', 'T', 'T', 'T', 'T', 'T', 'T', 'T', 'T', 'T', 'T', 'T', 'T', 'T', 'C', 'T', 'T', 'T', 'T', 'T', 'T', 'T', 'T', 'T', 'T', 'T', 'T', 'T', 'T', 'T']\n",
      "\n",
      "train loss:  0.059608153998851776\n",
      "seq1:  ['T', 'G', 'T', 'T', 'C', 'E']\n",
      "seq2:  ['G', 'G', 'G', 'C', 'A', 'E']\n",
      "predict seq2:  ['G', 'A', 'G', 'A', 'G', 'E', 'E']\n",
      "\n",
      "train loss:  1.8024516105651855\n",
      "seq1:  ['T', 'G', 'A', 'G', 'C', 'C', 'A', 'C', 'C', 'A', 'C', 'G', 'C', 'C', 'C', 'A', 'G', 'C', 'T', 'G', 'G', 'T', 'T', 'T', 'G', 'A', 'A', 'T', 'C', 'C', 'T', 'T', 'T', 'G', 'T', 'T', 'A', 'A', 'A', 'G', 'A', 'A', 'A', 'A', 'E']\n",
      "seq2:  ['T', 'T', 'T', 'T', 'T', 'T', 'T', 'T', 'T', 'T', 'T', 'T', 'T', 'T', 'T', 'T', 'T', 'T', 'T', 'T', 'G', 'A', 'G', 'G', 'T', 'G', 'G', 'G', 'G', 'T', 'C', 'T', 'C', 'A', 'E']\n",
      "predict seq2:  ['T', 'T', 'T', 'T', 'T', 'T', 'T', 'T', 'T', 'T', 'T', 'T', 'T', 'T', 'T', 'T', 'T', 'T', 'T', 'T', 'T', 'T', 'T', 'T', 'T', 'T', 'T', 'T', 'T', 'T', 'T', 'T', 'T', 'T', 'T', 'T', 'T', 'T', 'T', 'T', 'A', 'A', 'A', 'A', 'A', 'A', 'A', 'A', 'A', 'A', 'A', 'A', 'A', 'A', 'A', 'A', 'A', 'A', 'A', 'A', 'A', 'A', 'A', 'A', 'A', 'A', 'A']\n",
      "\n",
      "train loss:  0.14508025348186493\n",
      "seq1:  ['A', 'G', 'A', 'C', 'T', 'G', 'E']\n",
      "seq2:  ['C', 'A', 'G', 'T', 'C', 'T', 'E']\n",
      "predict seq2:  ['C', 'G', 'T', 'G', 'T', 'T', 'E', 'E', 'E']\n",
      "\n",
      "train loss:  0.013735922053456306\n",
      "seq1:  ['C', 'T', 'T', 'E']\n",
      "seq2:  ['A', 'A', 'G', 'E']\n",
      "predict seq2:  ['A', 'A', 'G', 'E', 'E']\n",
      "\n",
      "train loss:  2.220233678817749\n",
      "seq1:  ['G', 'C', 'C', 'T', 'T', 'G', 'C', 'T', 'A', 'G', 'C', 'C', 'C', 'T', 'G', 'A', 'A', 'G', 'T', 'G', 'G', 'A', 'A', 'A', 'A', 'A', 'C', 'A', 'T', 'T', 'T', 'G', 'G', 'T', 'G', 'G', 'T', 'C', 'A', 'A', 'C', 'A', 'T', 'C', 'G', 'G', 'C', 'A', 'C', 'A', 'C', 'A', 'E']\n",
      "seq2:  ['T', 'G', 'T', 'G', 'T', 'G', 'C', 'T', 'G', 'C', 'T', 'T', 'C', 'T', 'T', 'C', 'A', 'G', 'T', 'G', 'C', 'T', 'A', 'C', 'C', 'T', 'T', 'G', 'C', 'C', 'C', 'T', 'G', 'G', 'C', 'C', 'A', 'A', 'A', 'G', 'G', 'A', 'G', 'G', 'C', 'E']\n",
      "predict seq2:  ['T', 'G', 'C', 'A', 'C', 'A', 'T', 'T', 'A', 'A', 'A', 'A', 'T', 'T', 'T', 'A', 'A', 'T', 'T', 'T', 'T', 'T', 'T', 'T', 'T', 'T', 'T', 'A', 'T', 'T', 'T', 'A', 'A', 'T', 'A', 'A', 'T', 'T', 'T', 'T', 'A', 'A', 'T', 'T', 'A', 'A', 'A', 'T', 'T', 'A', 'T', 'T', 'G', 'T', 'T', 'T', 'T', 'T', 'T', 'T', 'T', 'T', 'T', 'T', 'T', 'G', 'T', 'G', 'G', 'G', 'G', 'G', 'G', 'A', 'A', 'A', 'A', 'A', 'A', 'A', 'A', 'A', 'A']\n",
      "\n",
      "train loss:  2.338594436645508\n",
      "seq1:  ['G', 'G', 'T', 'C', 'A', 'G', 'G', 'A', 'G', 'T', 'T', 'C', 'A', 'A', 'G', 'A', 'C', 'C', 'A', 'A', 'T', 'C', 'T', 'G', 'G', 'C', 'C', 'A', 'A', 'C', 'A', 'T', 'A', 'G', 'T', 'G', 'A', 'A', 'A', 'C', 'C', 'C', 'C', 'A', 'T', 'C', 'T', 'C', 'T', 'A', 'E']\n",
      "seq2:  ['T', 'G', 'G', 'A', 'G', 'T', 'G', 'T', 'G', 'T', 'A', 'A', 'G', 'T', 'A', 'T', 'T', 'T', 'G', 'A', 'C', 'T', 'G', 'A', 'A', 'A', 'A', 'G', 'A', 'T', 'A', 'C', 'C', 'A', 'A', 'G', 'G', 'T', 'A', 'A', 'A', 'A', 'C', 'T', 'G', 'A', 'C', 'C', 'E']\n",
      "predict seq2:  ['T', 'A', 'G', 'G', 'G', 'G', 'G', 'T', 'T', 'T', 'T', 'G', 'A', 'G', 'G', 'T', 'G', 'G', 'A', 'C', 'G', 'T', 'T', 'G', 'G', 'G', 'G', 'G', 'T', 'A', 'A', 'A', 'A', 'A', 'T', 'G', 'A', 'A', 'C', 'A', 'A', 'C', 'A', 'A', 'T', 'A', 'T', 'T', 'C', 'C', 'T', 'T', 'T', 'T', 'T', 'T', 'T', 'T', 'T', 'T', 'T', 'T', 'T', 'T', 'T', 'T', 'T', 'T', 'T', 'T', 'T', 'A', 'A', 'A', 'A', 'A', 'A', 'A', 'A', 'A', 'A', 'A', 'A', 'A', 'A', 'A', 'A', 'A', 'A', 'A']\n",
      "\n"
     ]
    }
   ],
   "source": [
    "from dataloader import get_dataloaders, MAX_SEQ_LENGTH, vocab_size\n",
    "batch_size = 1\n",
    "train_loader, dev_loader, test_loader = get_dataloaders(batch_size=batch_size)\n",
    "# random select 5 training samples\n",
    "# random.seed(0)\n",
    "train_samples = random.sample(list(train_loader), 10)\n",
    "# random select 5 dev samples\n",
    "dev_samples = random.sample(list(dev_loader), 10)\n",
    "# random select 5 test samples\n",
    "test_samples = random.sample(list(test_loader), 10)\n",
    "\n",
    "# 输出原来的seq1和seq2，还有预测的seq2\n",
    "for i in range(10):\n",
    "    seq1, seq2 = train_samples[i]\n",
    "    # seq1 = seq1.reshape(MAX_SEQ_LENGTH, -1)\n",
    "    # seq2 = seq2.reshape(MAX_SEQ_LENGTH, -1)\n",
    "    outputs = model(seq1)\n",
    "    # compute CrossEntropyLoss with seq2 and outputs\n",
    "    criterion = nn.CrossEntropyLoss()\n",
    "    loss = criterion(outputs.reshape(MAX_SEQ_LENGTH, -1), seq2.reshape(MAX_SEQ_LENGTH, -1))\n",
    "    print(\"train loss: \", loss.item())\n",
    "    print(\"seq1: \", outputs_to_seq(seq1))\n",
    "    print(\"seq2: \", outputs_to_seq(seq2))\n",
    "    seq1, _ = train_samples[i]\n",
    "    outputs = model(seq1)\n",
    "    # 自己softmax\n",
    "    # outputs = torch.softmax(outputs, dim=-1)\n",
    "    # print(outputs)\n",
    "    # print(outputs.shape)\n",
    "    outputs = outputs_to_seq(outputs.reshape(MAX_SEQ_LENGTH, -1))\n",
    "    # outputs = \"\".join(outputs)\n",
    "    print(\"predict seq2: \", outputs)\n",
    "    print()"
   ]
  }
 ],
 "metadata": {
  "kernelspec": {
   "display_name": "base",
   "language": "python",
   "name": "python3"
  },
  "language_info": {
   "codemirror_mode": {
    "name": "ipython",
    "version": 3
   },
   "file_extension": ".py",
   "mimetype": "text/x-python",
   "name": "python",
   "nbconvert_exporter": "python",
   "pygments_lexer": "ipython3",
   "version": "3.9.12"
  }
 },
 "nbformat": 4,
 "nbformat_minor": 2
}
